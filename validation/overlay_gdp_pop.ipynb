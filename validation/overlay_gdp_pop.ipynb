{
 "cells": [
  {
   "cell_type": "markdown",
   "metadata": {},
   "source": [
    "# Load packages "
   ]
  },
  {
   "cell_type": "code",
   "execution_count": 2,
   "metadata": {},
   "outputs": [],
   "source": [
    "import os\n",
    "from tqdm import tqdm\n",
    "from geofeather.pygeos import to_geofeather, from_geofeather\n",
    "import pandas as pd\n",
    "import geopandas as gpd\n",
    "import pygeos\n",
    "from rasterstats import zonal_stats\n",
    "from scipy.stats import spearmanr"
   ]
  },
  {
   "cell_type": "markdown",
   "metadata": {},
   "source": [
    "# Load data"
   ]
  },
  {
   "cell_type": "code",
   "execution_count": 31,
   "metadata": {},
   "outputs": [],
   "source": [
    "#set pathways\n",
    "cisi_path = 'CISI_exposure_global.feather'"
   ]
  },
  {
   "cell_type": "code",
   "execution_count": 32,
   "metadata": {},
   "outputs": [],
   "source": [
    "world_pop = os.path.join('C:\\\\','Data','worldpop','ppp_2018_1km_Aggregated.tif')\n",
    "world_gdp = os.path.join('C:\\\\','Data','global_gdp','GDP_2015.tif')"
   ]
  },
  {
   "cell_type": "code",
   "execution_count": 4,
   "metadata": {},
   "outputs": [],
   "source": [
    "#import data\n",
    "cisi_index = pd.read_feather(cisi_path)"
   ]
  },
  {
   "cell_type": "markdown",
   "metadata": {},
   "source": [
    "# Aggregate GDP and population data per grid cell"
   ]
  },
  {
   "cell_type": "code",
   "execution_count": 5,
   "metadata": {},
   "outputs": [],
   "source": [
    "cisi_index.geometry = pygeos.from_wkb(cisi_index.geometry) #create geometries from WKB representation"
   ]
  },
  {
   "cell_type": "code",
   "execution_count": 6,
   "metadata": {},
   "outputs": [],
   "source": [
    "cisi_index = gpd.GeoDataFrame(cisi_index.copy()) "
   ]
  },
  {
   "cell_type": "code",
   "execution_count": 7,
   "metadata": {},
   "outputs": [],
   "source": [
    "def value_zonal_stat(x,world_grid):\n",
    "    try:\n",
    "        return zonal_stats(x,world_grid,stats=\"sum\")\n",
    "    except:\n",
    "        return [{'sum': 0}]"
   ]
  },
  {
   "cell_type": "code",
   "execution_count": 8,
   "metadata": {},
   "outputs": [
    {
     "name": "stderr",
     "output_type": "stream",
     "text": [
      "gdp: 100%|█████████████████████████████████████████████████████████████████| 1600599/1600599 [4:54:43<00:00, 90.51it/s]\n"
     ]
    }
   ],
   "source": [
    "#calculate tot_gdp per CISI grid cell\n",
    "tqdm.pandas(desc='gdp')\n",
    "cisi_index['tot_gdp'] = cisi_index.geometry.progress_apply(lambda x: value_zonal_stat(x,world_gdp))\n",
    "cisi_index['tot_gdp'] = cisi_index['tot_gdp'].apply(lambda x: x[0]['sum']) "
   ]
  },
  {
   "cell_type": "code",
   "execution_count": 9,
   "metadata": {},
   "outputs": [
    {
     "name": "stderr",
     "output_type": "stream",
     "text": [
      "pop: 100%|█████████████████████████████████████████████████████████████████| 1600599/1600599 [5:02:34<00:00, 88.17it/s]\n"
     ]
    }
   ],
   "source": [
    "#calculate tot_pop per CISI grid cell\n",
    "tqdm.pandas(desc='pop')\n",
    "cisi_index['tot_pop'] = cisi_index.geometry.progress_apply(lambda x: value_zonal_stat(x,world_pop))\n",
    "cisi_index['tot_pop'] = cisi_index['tot_pop'].apply(lambda x: x[0]['sum']) "
   ]
  },
  {
   "cell_type": "code",
   "execution_count": 27,
   "metadata": {},
   "outputs": [],
   "source": [
    "cisi_new = pd.DataFrame(cisi_index.copy())"
   ]
  },
  {
   "cell_type": "code",
   "execution_count": 28,
   "metadata": {},
   "outputs": [],
   "source": [
    "cisi_new.geometry = pygeos.from_shapely(cisi_new.geometry)"
   ]
  },
  {
   "cell_type": "code",
   "execution_count": 30,
   "metadata": {},
   "outputs": [],
   "source": [
    "cisi_new.geometry = pygeos.to_wkb(cisi_new.geometry)"
   ]
  },
  {
   "cell_type": "code",
   "execution_count": 31,
   "metadata": {},
   "outputs": [],
   "source": [
    "cisi_new.to_feather('CISI_exposure_global_with_gdp_pop.feather')"
   ]
  },
  {
   "cell_type": "markdown",
   "metadata": {},
   "source": [
    "# Calculate Spearmann Correlation"
   ]
  },
  {
   "cell_type": "code",
   "execution_count": 28,
   "metadata": {},
   "outputs": [],
   "source": [
    "#set pathways\n",
    "aggregated_data_path = 'CISI_exposure_global_with_gdp_pop.feather'\n",
    "\n",
    "#import data\n",
    "aggregated_data = pd.read_feather(aggregated_data_path)"
   ]
  },
  {
   "cell_type": "code",
   "execution_count": 29,
   "metadata": {},
   "outputs": [],
   "source": [
    "#cisi_normalized\n",
    "base_path = os.path.abspath(r'\\\\labsdfs.labs.vu.nl\\labsdfs\\BETA-IVM-BAZIS\\snn490\\Outputs\\Exposure\\CISI_global')\n",
    "method_max_path = os.path.abspath(os.path.join(base_path, 'index_010', 'method_max')) #save figures\n",
    "\n",
    "##import data\n",
    "##df = from_geofeather(os.path.join(method_max_path, 'CISI-exposure.feather')) #open as geofeather\n",
    "#gdf_global = gpd.read_file(os.path.join(method_max_path, 'CISI_exposure_Global.gpkg')) #open as geofeather\n",
    "cisi_index = from_geofeather(os.path.join(method_max_path, 'CISI_exposure_Global.feather')) #open as geofeather"
   ]
  },
  {
   "cell_type": "code",
   "execution_count": 32,
   "metadata": {},
   "outputs": [
    {
     "data": {
      "text/plain": [
       "SpearmanrResult(correlation=0.6991707203034679, pvalue=0.0)"
      ]
     },
     "execution_count": 32,
     "metadata": {},
     "output_type": "execute_result"
    }
   ],
   "source": [
    "spearmanr(cisi_index.CISI_exposure.values,scaled_data.tot_gdp.values,nan_policy='omit')"
   ]
  },
  {
   "cell_type": "code",
   "execution_count": 33,
   "metadata": {},
   "outputs": [
    {
     "data": {
      "text/plain": [
       "SpearmanrResult(correlation=0.696220327542557, pvalue=0.0)"
      ]
     },
     "execution_count": 33,
     "metadata": {},
     "output_type": "execute_result"
    }
   ],
   "source": [
    "spearmanr(cisi_index.CISI_exposure.values,scaled_data.tot_pop.values,nan_policy='omit')"
   ]
  },
  {
   "cell_type": "markdown",
   "metadata": {},
   "source": [
    "## Central-America"
   ]
  },
  {
   "cell_type": "code",
   "execution_count": 5,
   "metadata": {},
   "outputs": [
    {
     "name": "stdout",
     "output_type": "stream",
     "text": [
      "This is gdp: SpearmanrResult(correlation=0.6994340350393377, pvalue=0.0)\n",
      "This is pop: SpearmanrResult(correlation=0.7457988201443776, pvalue=0.0)\n"
     ]
    }
   ],
   "source": [
    "#set pathways\n",
    "#local_path = 'C:/Users/snn490/surfdrive'\n",
    "cisi_path = os.path.abspath(r'\\\\labsdfs.labs.vu.nl\\labsdfs\\BETA-IVM-BAZIS\\snn490\\Outputs\\Exposure\\CISI_validation\\010')\n",
    "\n",
    "#import data\n",
    "val_data = pd.read_feather(os.path.join(cisi_path, 'CISI_Central-America_with_gdp_pop_v2.feather'))\n",
    "\n",
    "print('This is gdp: {}'.format(spearmanr(val_data.CISI_exposure.values,val_data.tot_gdp.values,nan_policy='omit')))\n",
    "print('This is pop: {}'.format(spearmanr(val_data.CISI_exposure.values,val_data.tot_pop_2020.values,nan_policy='omit')))"
   ]
  },
  {
   "cell_type": "markdown",
   "metadata": {},
   "source": [
    "## South-America"
   ]
  },
  {
   "cell_type": "code",
   "execution_count": 6,
   "metadata": {},
   "outputs": [
    {
     "name": "stdout",
     "output_type": "stream",
     "text": [
      "This is gdp: SpearmanrResult(correlation=0.6341509628675688, pvalue=0.0)\n",
      "This is pop: SpearmanrResult(correlation=0.6485225599118257, pvalue=0.0)\n"
     ]
    }
   ],
   "source": [
    "#set pathways\n",
    "#local_path = 'C:/Users/snn490/surfdrive'\n",
    "cisi_path = os.path.abspath(r'\\\\labsdfs.labs.vu.nl\\labsdfs\\BETA-IVM-BAZIS\\snn490\\Outputs\\Exposure\\CISI_validation\\010')\n",
    "\n",
    "#import data\n",
    "val_data = pd.read_feather(os.path.join(cisi_path, 'CISI_South-America_with_gdp_pop_v2.feather'))\n",
    "\n",
    "print('This is gdp: {}'.format(spearmanr(val_data.CISI_exposure.values,val_data.tot_gdp.values,nan_policy='omit')))\n",
    "print('This is pop: {}'.format(spearmanr(val_data.CISI_exposure.values,val_data.tot_pop_2020.values,nan_policy='omit')))"
   ]
  },
  {
   "cell_type": "markdown",
   "metadata": {},
   "source": [
    "## North-America"
   ]
  },
  {
   "cell_type": "code",
   "execution_count": 7,
   "metadata": {},
   "outputs": [
    {
     "name": "stdout",
     "output_type": "stream",
     "text": [
      "This is gdp: SpearmanrResult(correlation=0.8185544190652113, pvalue=0.0)\n",
      "This is pop: SpearmanrResult(correlation=0.8375027566612322, pvalue=0.0)\n"
     ]
    }
   ],
   "source": [
    "#set pathways\n",
    "#local_path = 'C:/Users/snn490/surfdrive'\n",
    "cisi_path = os.path.abspath(r'\\\\labsdfs.labs.vu.nl\\labsdfs\\BETA-IVM-BAZIS\\snn490\\Outputs\\Exposure\\CISI_validation\\010')\n",
    "\n",
    "#import data\n",
    "val_data = pd.read_feather(os.path.join(cisi_path, 'CISI_North-America_with_gdp_pop_v2.feather'))\n",
    "\n",
    "print('This is gdp: {}'.format(spearmanr(val_data.CISI_exposure.values,val_data.tot_gdp.values,nan_policy='omit')))\n",
    "print('This is pop: {}'.format(spearmanr(val_data.CISI_exposure.values,val_data.tot_pop_2020.values,nan_policy='omit')))"
   ]
  },
  {
   "cell_type": "markdown",
   "metadata": {},
   "source": [
    "## Oceania"
   ]
  },
  {
   "cell_type": "code",
   "execution_count": 8,
   "metadata": {},
   "outputs": [
    {
     "name": "stdout",
     "output_type": "stream",
     "text": [
      "This is gdp: SpearmanrResult(correlation=0.7223437303107432, pvalue=0.0)\n",
      "This is pop: SpearmanrResult(correlation=0.6455852190397788, pvalue=0.0)\n"
     ]
    }
   ],
   "source": [
    "#set pathways\n",
    "#local_path = 'C:/Users/snn490/surfdrive'\n",
    "cisi_path = os.path.abspath(r'\\\\labsdfs.labs.vu.nl\\labsdfs\\BETA-IVM-BAZIS\\snn490\\Outputs\\Exposure\\CISI_validation\\025')\n",
    "\n",
    "#import data\n",
    "val_data = pd.read_feather(os.path.join(cisi_path, 'CISI_Oceania_with_gdp_pop_v2.feather'))\n",
    "\n",
    "print('This is gdp: {}'.format(spearmanr(val_data.CISI_exposure.values,val_data.tot_gdp.values,nan_policy='omit')))\n",
    "print('This is pop: {}'.format(spearmanr(val_data.CISI_exposure.values,val_data.tot_pop_2020.values,nan_policy='omit')))"
   ]
  },
  {
   "cell_type": "markdown",
   "metadata": {},
   "source": [
    "## Asia"
   ]
  },
  {
   "cell_type": "code",
   "execution_count": 9,
   "metadata": {},
   "outputs": [
    {
     "name": "stdout",
     "output_type": "stream",
     "text": [
      "This is gdp: SpearmanrResult(correlation=0.6238281333668049, pvalue=0.0)\n",
      "This is pop: SpearmanrResult(correlation=0.7250482874129276, pvalue=0.0)\n"
     ]
    }
   ],
   "source": [
    "#set pathways\n",
    "#local_path = 'C:/Users/snn490/surfdrive'\n",
    "cisi_path = os.path.abspath(r'\\\\labsdfs.labs.vu.nl\\labsdfs\\BETA-IVM-BAZIS\\snn490\\Outputs\\Exposure\\CISI_validation\\010')\n",
    "\n",
    "#import data\n",
    "val_data = pd.read_feather(os.path.join(cisi_path, 'CISI_Asia_with_gdp_pop_v2.feather'))\n",
    "\n",
    "print('This is gdp: {}'.format(spearmanr(val_data.CISI_exposure.values,val_data.tot_gdp.values,nan_policy='omit')))\n",
    "print('This is pop: {}'.format(spearmanr(val_data.CISI_exposure.values,val_data.tot_pop_2020.values,nan_policy='omit')))"
   ]
  },
  {
   "cell_type": "markdown",
   "metadata": {},
   "source": [
    "## Africa"
   ]
  },
  {
   "cell_type": "code",
   "execution_count": 10,
   "metadata": {},
   "outputs": [
    {
     "name": "stdout",
     "output_type": "stream",
     "text": [
      "This is gdp: SpearmanrResult(correlation=0.5228749155120559, pvalue=0.0)\n",
      "This is pop: SpearmanrResult(correlation=0.5912386194160101, pvalue=0.0)\n"
     ]
    }
   ],
   "source": [
    "#set pathways\n",
    "#local_path = 'C:/Users/snn490/surfdrive'\n",
    "cisi_path = os.path.abspath(r'\\\\labsdfs.labs.vu.nl\\labsdfs\\BETA-IVM-BAZIS\\snn490\\Outputs\\Exposure\\CISI_validation\\010')\n",
    "\n",
    "#import data\n",
    "val_data = pd.read_feather(os.path.join(cisi_path, 'CISI_Africa_with_gdp_pop_v2.feather'))\n",
    "\n",
    "print('This is gdp: {}'.format(spearmanr(val_data.CISI_exposure.values,val_data.tot_gdp.values,nan_policy='omit')))\n",
    "print('This is pop: {}'.format(spearmanr(val_data.CISI_exposure.values,val_data.tot_pop_2020.values,nan_policy='omit')))"
   ]
  },
  {
   "cell_type": "markdown",
   "metadata": {},
   "source": [
    "## Europe"
   ]
  },
  {
   "cell_type": "code",
   "execution_count": 11,
   "metadata": {},
   "outputs": [
    {
     "name": "stdout",
     "output_type": "stream",
     "text": [
      "This is gdp: SpearmanrResult(correlation=0.7421245005939011, pvalue=0.0)\n",
      "This is pop: SpearmanrResult(correlation=0.8353042532791441, pvalue=0.0)\n"
     ]
    }
   ],
   "source": [
    "#set pathways\n",
    "#local_path = 'C:/Users/snn490/surfdrive'\n",
    "cisi_path = os.path.abspath(r'\\\\labsdfs.labs.vu.nl\\labsdfs\\BETA-IVM-BAZIS\\snn490\\Outputs\\Exposure\\CISI_validation\\010')\n",
    "\n",
    "#import data\n",
    "val_data = pd.read_feather(os.path.join(cisi_path, 'CISI_Europe_with_gdp_pop_v2.feather'))\n",
    "\n",
    "print('This is gdp: {}'.format(spearmanr(val_data.CISI_exposure.values,val_data.tot_gdp.values,nan_policy='omit')))\n",
    "print('This is pop: {}'.format(spearmanr(val_data.CISI_exposure.values,val_data.tot_pop_2020.values,nan_policy='omit')))"
   ]
  },
  {
   "cell_type": "markdown",
   "metadata": {},
   "source": [
    "## Global"
   ]
  },
  {
   "cell_type": "code",
   "execution_count": null,
   "metadata": {},
   "outputs": [
    {
     "name": "stdout",
     "output_type": "stream",
     "text": [
      "This is gdp: SpearmanrResult(correlation=0.6991707203034679, pvalue=0.0)\n"
     ]
    }
   ],
   "source": [
    "#set pathways\n",
    "#local_path = 'C:/Users/snn490/surfdrive'\n",
    "cisi_path = os.path.abspath(r'\\\\labsdfs.labs.vu.nl\\labsdfs\\BETA-IVM-BAZIS\\snn490\\Outputs\\Exposure\\CISI_validation\\010')\n",
    "\n",
    "#import data\n",
    "val_data = pd.read_feather(os.path.join(cisi_path, 'CISI_global_with_gdp_pop_v2.feather'))\n",
    "\n",
    "print('This is gdp: {}'.format(spearmanr(val_data.CISI_exposure.values,val_data.tot_gdp.values,nan_policy='omit')))\n",
    "print('This is pop: {}'.format(spearmanr(val_data.CISI_exposure.values,val_data.tot_pop_2020.values,nan_policy='omit')))"
   ]
  },
  {
   "cell_type": "markdown",
   "metadata": {},
   "source": [
    "# Continental"
   ]
  },
  {
   "cell_type": "markdown",
   "metadata": {},
   "source": [
    "## compress continental files"
   ]
  },
  {
   "cell_type": "code",
   "execution_count": 65,
   "metadata": {},
   "outputs": [],
   "source": [
    "shapes_path = os.path.abspath(r'\\\\labsdfs.labs.vu.nl\\labsdfs\\BETA-IVM-BAZIS\\snn490\\Datasets\\Administrative_boundaries\\global_countries_buffer')\n",
    "shapes_file = 'global_countries_advanced.geofeather'\n",
    "country_shapes_path = os.path.abspath(os.path.join(shapes_path, shapes_file)) #shapefiles with buffer around country"
   ]
  },
  {
   "cell_type": "code",
   "execution_count": 66,
   "metadata": {},
   "outputs": [],
   "source": [
    "shape_countries = from_geofeather(country_shapes_path) #open as geofeather"
   ]
  },
  {
   "cell_type": "code",
   "execution_count": 67,
   "metadata": {},
   "outputs": [],
   "source": [
    "continent_lst = shape_countries['continent'].unique().tolist()\n",
    "#continent_lst = ['Central-America']"
   ]
  },
  {
   "cell_type": "code",
   "execution_count": 61,
   "metadata": {},
   "outputs": [],
   "source": [
    "#for 010\n",
    "\n",
    "for continent in continent_lst:\n",
    "\n",
    "    cisi_continent = from_geofeather(os.path.abspath(os.path.join(os.path.abspath(r'\\\\labsdfs.labs.vu.nl\\labsdfs\\BETA-IVM-BAZIS\\snn490\\Outputs\\Exposure'), 'CISI_{}'.format(continent), 'index_010', 'method_max', 'CISI_exposure_{}.feather'.format(continent))))\n",
    "    continent_shape = shape_countries[shape_countries['continent']==continent]\n",
    "\n",
    "    #df_shapefiles_continents_py['geometry'] = pygeos.from_shapely(df_shapefiles_continents_py.geometry) #transform geometry to be able to make output\n",
    "\n",
    "    spat_tree = pygeos.STRtree(cisi_continent.geometry) # https://pygeos.readthedocs.io/en/latest/strtree.html\n",
    "\n",
    "    merged_geometry = pygeos.set_operations.union_all(continent_shape.geometry) #merge shapefiles\n",
    "    df_shapefiles_continents_py_all = pd.DataFrame([merged_geometry], columns = ['geometry']) \n",
    "\n",
    "    grid_data_continent = (cisi_continent.loc[spat_tree.query(df_shapefiles_continents_py_all.geometry.iloc[0],predicate='intersects').tolist()])#.sort_index(ascending=True) #get grids that overlap with cover_box\n",
    "    grid_data_continent = grid_data_continent.reset_index(drop=True)#.rename(columns = {'index':'grid_number'}) #get index as column and name column grid_number\n",
    "    to_geofeather(grid_data_continent, os.path.join(os.path.abspath(os.path.join(os.path.abspath(r'\\\\labsdfs.labs.vu.nl\\labsdfs\\BETA-IVM-BAZIS\\snn490\\Outputs\\Exposure'), 'CISI_files', '010')), 'CISI_{}.feather'.format(continent)), crs=\"EPSG:4326\") #save as geofeather\n",
    "\n",
    "    "
   ]
  },
  {
   "cell_type": "code",
   "execution_count": 68,
   "metadata": {},
   "outputs": [],
   "source": [
    "#for 025\n",
    "\n",
    "for continent in continent_lst:\n",
    "    if continent == 'Europe':\n",
    "\n",
    "        cisi_continent = from_geofeather(os.path.abspath(os.path.join(os.path.abspath(r'\\\\labsdfs.labs.vu.nl\\labsdfs\\BETA-IVM-BAZIS\\snn490\\Outputs\\Exposure'), 'CISI_{}'.format(continent), 'index_025', 'method_max', 'CISI_exposure_{}.feather'.format(continent))))\n",
    "        continent_shape = shape_countries[shape_countries['continent']==continent]\n",
    "\n",
    "        #df_shapefiles_continents_py['geometry'] = pygeos.from_shapely(df_shapefiles_continents_py.geometry) #transform geometry to be able to make output\n",
    "\n",
    "        spat_tree = pygeos.STRtree(cisi_continent.geometry) # https://pygeos.readthedocs.io/en/latest/strtree.html\n",
    "\n",
    "        merged_geometry = pygeos.set_operations.union_all(continent_shape.geometry) #merge shapefiles\n",
    "        df_shapefiles_continents_py_all = pd.DataFrame([merged_geometry], columns = ['geometry']) \n",
    "\n",
    "        grid_data_continent = (cisi_continent.loc[spat_tree.query(df_shapefiles_continents_py_all.geometry.iloc[0],predicate='intersects').tolist()])#.sort_index(ascending=True) #get grids that overlap with cover_box\n",
    "        grid_data_continent = grid_data_continent.reset_index(drop=True)#.rename(columns = {'index':'grid_number'}) #get index as column and name column grid_number\n",
    "        to_geofeather(grid_data_continent, os.path.join(os.path.abspath(os.path.join(os.path.abspath(r'\\\\labsdfs.labs.vu.nl\\labsdfs\\BETA-IVM-BAZIS\\snn490\\Outputs\\Exposure'), 'CISI_files', '025')), 'CISI_{}.feather'.format(continent)), crs=\"EPSG:4326\") #save as geofeather\n",
    "\n",
    "    "
   ]
  },
  {
   "cell_type": "code",
   "execution_count": 28,
   "metadata": {},
   "outputs": [],
   "source": [
    "test = from_geofeather(os.path.join(os.path.abspath(os.path.join(os.path.abspath(r'\\\\labsdfs.labs.vu.nl\\labsdfs\\BETA-IVM-BAZIS\\snn490\\Outputs\\Exposure'), 'CISI_files', '010')), 'CISI_{}.feather'.format(continent)))"
   ]
  },
  {
   "cell_type": "code",
   "execution_count": 29,
   "metadata": {},
   "outputs": [
    {
     "data": {
      "text/html": [
       "<div>\n",
       "<style scoped>\n",
       "    .dataframe tbody tr th:only-of-type {\n",
       "        vertical-align: middle;\n",
       "    }\n",
       "\n",
       "    .dataframe tbody tr th {\n",
       "        vertical-align: top;\n",
       "    }\n",
       "\n",
       "    .dataframe thead th {\n",
       "        text-align: right;\n",
       "    }\n",
       "</style>\n",
       "<table border=\"1\" class=\"dataframe\">\n",
       "  <thead>\n",
       "    <tr style=\"text-align: right;\">\n",
       "      <th></th>\n",
       "      <th>CISI_exposure</th>\n",
       "      <th>Subscore_energy</th>\n",
       "      <th>Subscore_transportation</th>\n",
       "      <th>Subscore_water</th>\n",
       "      <th>Subscore_waste</th>\n",
       "      <th>Subscore_telecommunication</th>\n",
       "      <th>Subscore_healthcare</th>\n",
       "      <th>Subscore_education</th>\n",
       "      <th>geometry</th>\n",
       "    </tr>\n",
       "  </thead>\n",
       "  <tbody>\n",
       "    <tr>\n",
       "      <th>0</th>\n",
       "      <td>0.000000</td>\n",
       "      <td>0.0</td>\n",
       "      <td>0.000000</td>\n",
       "      <td>0.0</td>\n",
       "      <td>0.0</td>\n",
       "      <td>0.000000</td>\n",
       "      <td>0.0</td>\n",
       "      <td>0.0</td>\n",
       "      <td>POLYGON ((-160 -0.342, -160 -0.342, -160 -0.44...</td>\n",
       "    </tr>\n",
       "    <tr>\n",
       "      <th>1</th>\n",
       "      <td>0.020629</td>\n",
       "      <td>0.0</td>\n",
       "      <td>0.000000</td>\n",
       "      <td>0.0</td>\n",
       "      <td>0.0</td>\n",
       "      <td>0.020629</td>\n",
       "      <td>0.0</td>\n",
       "      <td>0.0</td>\n",
       "      <td>POLYGON ((-177 0.258, -176 0.258, -176 0.158, ...</td>\n",
       "    </tr>\n",
       "    <tr>\n",
       "      <th>2</th>\n",
       "      <td>0.000000</td>\n",
       "      <td>0.0</td>\n",
       "      <td>0.000000</td>\n",
       "      <td>0.0</td>\n",
       "      <td>0.0</td>\n",
       "      <td>0.000000</td>\n",
       "      <td>0.0</td>\n",
       "      <td>0.0</td>\n",
       "      <td>POLYGON ((-177 0.858, -177 0.858, -177 0.758, ...</td>\n",
       "    </tr>\n",
       "    <tr>\n",
       "      <th>3</th>\n",
       "      <td>0.000000</td>\n",
       "      <td>0.0</td>\n",
       "      <td>0.000000</td>\n",
       "      <td>0.0</td>\n",
       "      <td>0.0</td>\n",
       "      <td>0.000000</td>\n",
       "      <td>0.0</td>\n",
       "      <td>0.0</td>\n",
       "      <td>POLYGON ((-162 5.96, -162 5.96, -162 5.86, -16...</td>\n",
       "    </tr>\n",
       "    <tr>\n",
       "      <th>4</th>\n",
       "      <td>0.000663</td>\n",
       "      <td>0.0</td>\n",
       "      <td>0.000663</td>\n",
       "      <td>0.0</td>\n",
       "      <td>0.0</td>\n",
       "      <td>0.000000</td>\n",
       "      <td>0.0</td>\n",
       "      <td>0.0</td>\n",
       "      <td>POLYGON ((-162 5.96, -162 5.96, -162 5.86, -16...</td>\n",
       "    </tr>\n",
       "    <tr>\n",
       "      <th>...</th>\n",
       "      <td>...</td>\n",
       "      <td>...</td>\n",
       "      <td>...</td>\n",
       "      <td>...</td>\n",
       "      <td>...</td>\n",
       "      <td>...</td>\n",
       "      <td>...</td>\n",
       "      <td>...</td>\n",
       "      <td>...</td>\n",
       "    </tr>\n",
       "    <tr>\n",
       "      <th>350727</th>\n",
       "      <td>0.000000</td>\n",
       "      <td>0.0</td>\n",
       "      <td>0.000000</td>\n",
       "      <td>0.0</td>\n",
       "      <td>0.0</td>\n",
       "      <td>0.000000</td>\n",
       "      <td>0.0</td>\n",
       "      <td>0.0</td>\n",
       "      <td>POLYGON ((-37.2 83.7, -37.1 83.7, -37.1 83.6, ...</td>\n",
       "    </tr>\n",
       "    <tr>\n",
       "      <th>350728</th>\n",
       "      <td>0.000000</td>\n",
       "      <td>0.0</td>\n",
       "      <td>0.000000</td>\n",
       "      <td>0.0</td>\n",
       "      <td>0.0</td>\n",
       "      <td>0.000000</td>\n",
       "      <td>0.0</td>\n",
       "      <td>0.0</td>\n",
       "      <td>POLYGON ((-32.1 83.7, -32 83.7, -32 83.6, -32....</td>\n",
       "    </tr>\n",
       "    <tr>\n",
       "      <th>350729</th>\n",
       "      <td>0.000000</td>\n",
       "      <td>0.0</td>\n",
       "      <td>0.000000</td>\n",
       "      <td>0.0</td>\n",
       "      <td>0.0</td>\n",
       "      <td>0.000000</td>\n",
       "      <td>0.0</td>\n",
       "      <td>0.0</td>\n",
       "      <td>POLYGON ((-31.2 83.7, -31.1 83.7, -31.1 83.6, ...</td>\n",
       "    </tr>\n",
       "    <tr>\n",
       "      <th>350730</th>\n",
       "      <td>0.000000</td>\n",
       "      <td>0.0</td>\n",
       "      <td>0.000000</td>\n",
       "      <td>0.0</td>\n",
       "      <td>0.0</td>\n",
       "      <td>0.000000</td>\n",
       "      <td>0.0</td>\n",
       "      <td>0.0</td>\n",
       "      <td>POLYGON ((-30.1 83.7, -30 83.7, -30 83.6, -30....</td>\n",
       "    </tr>\n",
       "    <tr>\n",
       "      <th>350731</th>\n",
       "      <td>0.000000</td>\n",
       "      <td>0.0</td>\n",
       "      <td>0.000000</td>\n",
       "      <td>0.0</td>\n",
       "      <td>0.0</td>\n",
       "      <td>0.000000</td>\n",
       "      <td>0.0</td>\n",
       "      <td>0.0</td>\n",
       "      <td>POLYGON ((-37.1 83.7, -37 83.7, -37 83.6, -37....</td>\n",
       "    </tr>\n",
       "  </tbody>\n",
       "</table>\n",
       "<p>350732 rows × 9 columns</p>\n",
       "</div>"
      ],
      "text/plain": [
       "        CISI_exposure  Subscore_energy  Subscore_transportation  \\\n",
       "0            0.000000              0.0                 0.000000   \n",
       "1            0.020629              0.0                 0.000000   \n",
       "2            0.000000              0.0                 0.000000   \n",
       "3            0.000000              0.0                 0.000000   \n",
       "4            0.000663              0.0                 0.000663   \n",
       "...               ...              ...                      ...   \n",
       "350727       0.000000              0.0                 0.000000   \n",
       "350728       0.000000              0.0                 0.000000   \n",
       "350729       0.000000              0.0                 0.000000   \n",
       "350730       0.000000              0.0                 0.000000   \n",
       "350731       0.000000              0.0                 0.000000   \n",
       "\n",
       "        Subscore_water  Subscore_waste  Subscore_telecommunication  \\\n",
       "0                  0.0             0.0                    0.000000   \n",
       "1                  0.0             0.0                    0.020629   \n",
       "2                  0.0             0.0                    0.000000   \n",
       "3                  0.0             0.0                    0.000000   \n",
       "4                  0.0             0.0                    0.000000   \n",
       "...                ...             ...                         ...   \n",
       "350727             0.0             0.0                    0.000000   \n",
       "350728             0.0             0.0                    0.000000   \n",
       "350729             0.0             0.0                    0.000000   \n",
       "350730             0.0             0.0                    0.000000   \n",
       "350731             0.0             0.0                    0.000000   \n",
       "\n",
       "        Subscore_healthcare  Subscore_education  \\\n",
       "0                       0.0                 0.0   \n",
       "1                       0.0                 0.0   \n",
       "2                       0.0                 0.0   \n",
       "3                       0.0                 0.0   \n",
       "4                       0.0                 0.0   \n",
       "...                     ...                 ...   \n",
       "350727                  0.0                 0.0   \n",
       "350728                  0.0                 0.0   \n",
       "350729                  0.0                 0.0   \n",
       "350730                  0.0                 0.0   \n",
       "350731                  0.0                 0.0   \n",
       "\n",
       "                                                 geometry  \n",
       "0       POLYGON ((-160 -0.342, -160 -0.342, -160 -0.44...  \n",
       "1       POLYGON ((-177 0.258, -176 0.258, -176 0.158, ...  \n",
       "2       POLYGON ((-177 0.858, -177 0.858, -177 0.758, ...  \n",
       "3       POLYGON ((-162 5.96, -162 5.96, -162 5.86, -16...  \n",
       "4       POLYGON ((-162 5.96, -162 5.96, -162 5.86, -16...  \n",
       "...                                                   ...  \n",
       "350727  POLYGON ((-37.2 83.7, -37.1 83.7, -37.1 83.6, ...  \n",
       "350728  POLYGON ((-32.1 83.7, -32 83.7, -32 83.6, -32....  \n",
       "350729  POLYGON ((-31.2 83.7, -31.1 83.7, -31.1 83.6, ...  \n",
       "350730  POLYGON ((-30.1 83.7, -30 83.7, -30 83.6, -30....  \n",
       "350731  POLYGON ((-37.1 83.7, -37 83.7, -37 83.6, -37....  \n",
       "\n",
       "[350732 rows x 9 columns]"
      ]
     },
     "execution_count": 29,
     "metadata": {},
     "output_type": "execute_result"
    }
   ],
   "source": [
    "test"
   ]
  }
 ],
 "metadata": {
  "kernelspec": {
   "display_name": "Python 3",
   "language": "python",
   "name": "python3"
  },
  "language_info": {
   "codemirror_mode": {
    "name": "ipython",
    "version": 3
   },
   "file_extension": ".py",
   "mimetype": "text/x-python",
   "name": "python",
   "nbconvert_exporter": "python",
   "pygments_lexer": "ipython3",
   "version": "3.8.3"
  }
 },
 "nbformat": 4,
 "nbformat_minor": 5
}
